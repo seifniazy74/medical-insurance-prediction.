{
 "cells": [
  {
   "cell_type": "markdown",
   "id": "f9de98ea",
   "metadata": {},
   "source": [
    "# Medical Insurance Cost Prediction Project Report\n",
    "---\n",
    "## Project Overview\n",
    "This project aims to predict medical insurance charges based on demographic and health-related features using machine learning models. The dataset contains information about individuals, including their age, sex, BMI, number of children, smoking status, and region. The target variable is the insurance charges.\n",
    "\n",
    "## Data Description\n",
    "- **age**: Age of the individual (integer)\n",
    "- **sex**: Gender of the individual (male/female)\n",
    "- **bmi**: Body Mass Index (float)\n",
    "- **children**: Number of children/dependents (integer)\n",
    "- **smoker**: Smoking status (yes/no)\n",
    "- **region**: Residential area (southeast, southwest, northeast, northwest)\n",
    "- **charges**: Medical insurance cost (float, target variable)\n",
    "\n",
    "The dataset is clean, with no missing values. Categorical features are encoded using LabelEncoder for model compatibility.\n",
    "\n",
    "## Data Analysis & Visualization\n",
    "- Distribution plots and boxplots were used to understand the spread and detect outliers in numerical features.\n",
    "- Count plots and value counts were used for categorical features to visualize their distribution.\n",
    "- Outliers in BMI and charges were handled using the IQR method.\n",
    "\n",
    "## Data Preprocessing\n",
    "- Categorical variables (sex, smoker, region) were encoded.\n",
    "- Outliers were capped using the IQR method.\n",
    "- Features and target were split into `x` and `y`.\n",
    "- Data was split into training and testing sets (80/20 split).\n",
    "- Numerical features were scaled using RobustScaler.\n",
    "\n",
    "## Model Training & Evaluation\n",
    "Two models were trained and evaluated:\n",
    "1. **Linear Regression**:\n",
    "    - Trained on the processed data.\n",
    "    - Performance measured using Mean Squared Error (MSE), Mean Absolute Error (MAE), and R² score.\n",
    "2. **Random Forest Regressor**:\n",
    "    - An ensemble model for regression tasks.\n",
    "    - Also evaluated using MSE, MAE, and R² score.\n",
    "\n",
    "## Results\n",
    "- Both models were tested on the test set.\n",
    "- Evaluation metrics (MSE, MAE, R²) were printed for comparison.\n",
    "- Random Forest generally provides better performance due to its ability to capture non-linear relationships.\n",
    "\n",
    "## Prediction System\n",
    "- A simple prediction system was built to estimate insurance charges for new input data using both models.\n",
    "- Input features are encoded and passed to the trained model to predict charges.\n",
    "\n",
    "\n",
    "\n",
    "---"
   ]
  },
  {
   "cell_type": "markdown",
   "id": "de2cb4b6",
   "metadata": {},
   "source": [
    "## Data Explanation\n",
    "The medical insurance dataset contains the following columns:\n",
    "- **age**: The age of the insured individual. Ranges from young adults to seniors.\n",
    "- **sex**: Gender of the individual, either male or female.\n",
    "- **bmi**: Body Mass Index, a measure of body fat based on height and weight. Higher values may indicate overweight or obesity.\n",
    "- **children**: Number of children/dependents covered by the insurance.\n",
    "- **smoker**: Indicates whether the person is a smoker (yes) or non-smoker (no). Smoking status is a major factor affecting insurance charges.\n",
    "- **region**: The residential area of the individual. The dataset includes four regions: southeast, southwest, northeast, and northwest. Regional differences may affect healthcare costs.\n",
    "- **charges**: The actual medical insurance cost billed to the individual. This is the target variable for prediction.\n",
    "\n",
    "### Key Points\n",
    "- **No missing values**: The dataset is complete and does not require imputation.\n",
    "- **Categorical encoding**: Sex, smoker, and region are encoded numerically for model training.\n",
    "- **Outliers**: BMI and charges columns may contain outliers, which are handled using the IQR method.\n",
    "- **Feature importance**: Age, BMI, and smoking status are typically the most influential features in predicting insurance charges.\n",
    "\n",
    "This dataset is suitable for regression analysis and helps demonstrate how demographic and lifestyle factors impact medical insurance costs."
   ]
  },
  {
   "cell_type": "markdown",
   "id": "786c9cf6",
   "metadata": {},
   "source": [
    "import lib"
   ]
  },
  {
   "cell_type": "code",
   "execution_count": 179,
   "id": "9b7d68b5",
   "metadata": {},
   "outputs": [],
   "source": [
    "import numpy as np \n",
    "import pandas as pd  \n",
    "import matplotlib.pyplot as plt \n",
    "import seaborn as sns \n",
    "from sklearn.model_selection import train_test_split \n",
    "from sklearn.linear_model import LinearRegression \n",
    "from sklearn.metrics import mean_squared_error, mean_absolute_error\n",
    "from warnings import filterwarnings\n",
    "filterwarnings('ignore')"
   ]
  },
  {
   "cell_type": "markdown",
   "id": "4271aee0",
   "metadata": {},
   "source": [
    "### data collection and analysis "
   ]
  },
  {
   "cell_type": "markdown",
   "id": "cde95224",
   "metadata": {},
   "source": [
    "##### read the data "
   ]
  },
  {
   "cell_type": "code",
   "execution_count": 180,
   "id": "f78fb293",
   "metadata": {},
   "outputs": [],
   "source": [
    "incurance_dataset = pd.read_csv(r'C:\\Users\\NILE NEW\\Desktop\\python\\projects\\medical incurance\\insurance.csv')"
   ]
  },
  {
   "cell_type": "code",
   "execution_count": 181,
   "id": "3b446678",
   "metadata": {},
   "outputs": [
    {
     "data": {
      "text/html": [
       "<div>\n",
       "<style scoped>\n",
       "    .dataframe tbody tr th:only-of-type {\n",
       "        vertical-align: middle;\n",
       "    }\n",
       "\n",
       "    .dataframe tbody tr th {\n",
       "        vertical-align: top;\n",
       "    }\n",
       "\n",
       "    .dataframe thead th {\n",
       "        text-align: right;\n",
       "    }\n",
       "</style>\n",
       "<table border=\"1\" class=\"dataframe\">\n",
       "  <thead>\n",
       "    <tr style=\"text-align: right;\">\n",
       "      <th></th>\n",
       "      <th>age</th>\n",
       "      <th>sex</th>\n",
       "      <th>bmi</th>\n",
       "      <th>children</th>\n",
       "      <th>smoker</th>\n",
       "      <th>region</th>\n",
       "      <th>charges</th>\n",
       "    </tr>\n",
       "  </thead>\n",
       "  <tbody>\n",
       "    <tr>\n",
       "      <th>0</th>\n",
       "      <td>19</td>\n",
       "      <td>female</td>\n",
       "      <td>27.900</td>\n",
       "      <td>0</td>\n",
       "      <td>yes</td>\n",
       "      <td>southwest</td>\n",
       "      <td>16884.92400</td>\n",
       "    </tr>\n",
       "    <tr>\n",
       "      <th>1</th>\n",
       "      <td>18</td>\n",
       "      <td>male</td>\n",
       "      <td>33.770</td>\n",
       "      <td>1</td>\n",
       "      <td>no</td>\n",
       "      <td>southeast</td>\n",
       "      <td>1725.55230</td>\n",
       "    </tr>\n",
       "    <tr>\n",
       "      <th>2</th>\n",
       "      <td>28</td>\n",
       "      <td>male</td>\n",
       "      <td>33.000</td>\n",
       "      <td>3</td>\n",
       "      <td>no</td>\n",
       "      <td>southeast</td>\n",
       "      <td>4449.46200</td>\n",
       "    </tr>\n",
       "    <tr>\n",
       "      <th>3</th>\n",
       "      <td>33</td>\n",
       "      <td>male</td>\n",
       "      <td>22.705</td>\n",
       "      <td>0</td>\n",
       "      <td>no</td>\n",
       "      <td>northwest</td>\n",
       "      <td>21984.47061</td>\n",
       "    </tr>\n",
       "    <tr>\n",
       "      <th>4</th>\n",
       "      <td>32</td>\n",
       "      <td>male</td>\n",
       "      <td>28.880</td>\n",
       "      <td>0</td>\n",
       "      <td>no</td>\n",
       "      <td>northwest</td>\n",
       "      <td>3866.85520</td>\n",
       "    </tr>\n",
       "  </tbody>\n",
       "</table>\n",
       "</div>"
      ],
      "text/plain": [
       "   age     sex     bmi  children smoker     region      charges\n",
       "0   19  female  27.900         0    yes  southwest  16884.92400\n",
       "1   18    male  33.770         1     no  southeast   1725.55230\n",
       "2   28    male  33.000         3     no  southeast   4449.46200\n",
       "3   33    male  22.705         0     no  northwest  21984.47061\n",
       "4   32    male  28.880         0     no  northwest   3866.85520"
      ]
     },
     "execution_count": 181,
     "metadata": {},
     "output_type": "execute_result"
    }
   ],
   "source": [
    "# get the first five rows \n",
    "incurance_dataset.head()"
   ]
  },
  {
   "cell_type": "code",
   "execution_count": 182,
   "id": "5dd838f2",
   "metadata": {},
   "outputs": [
    {
     "data": {
      "text/plain": [
       "(1338, 7)"
      ]
     },
     "execution_count": 182,
     "metadata": {},
     "output_type": "execute_result"
    }
   ],
   "source": [
    "# get the shape of the data frame \n",
    "incurance_dataset.shape "
   ]
  },
  {
   "cell_type": "code",
   "execution_count": 183,
   "id": "add958de",
   "metadata": {},
   "outputs": [
    {
     "name": "stdout",
     "output_type": "stream",
     "text": [
      "<class 'pandas.core.frame.DataFrame'>\n",
      "RangeIndex: 1338 entries, 0 to 1337\n",
      "Data columns (total 7 columns):\n",
      " #   Column    Non-Null Count  Dtype  \n",
      "---  ------    --------------  -----  \n",
      " 0   age       1338 non-null   int64  \n",
      " 1   sex       1338 non-null   object \n",
      " 2   bmi       1338 non-null   float64\n",
      " 3   children  1338 non-null   int64  \n",
      " 4   smoker    1338 non-null   object \n",
      " 5   region    1338 non-null   object \n",
      " 6   charges   1338 non-null   float64\n",
      "dtypes: float64(2), int64(2), object(3)\n",
      "memory usage: 73.3+ KB\n"
     ]
    }
   ],
   "source": [
    "# get the some info about the data \n",
    "incurance_dataset.info()"
   ]
  },
  {
   "cell_type": "markdown",
   "id": "430b65bd",
   "metadata": {},
   "source": [
    "the categorecal values\n",
    "- region\n",
    "- smoker\n",
    "- sex\n",
    "\n",
    "the target value is  -->  charges "
   ]
  },
  {
   "cell_type": "code",
   "execution_count": 184,
   "id": "3f3adff4",
   "metadata": {},
   "outputs": [
    {
     "data": {
      "text/plain": [
       "age         0\n",
       "sex         0\n",
       "bmi         0\n",
       "children    0\n",
       "smoker      0\n",
       "region      0\n",
       "charges     0\n",
       "dtype: int64"
      ]
     },
     "execution_count": 184,
     "metadata": {},
     "output_type": "execute_result"
    }
   ],
   "source": [
    "# check for the missing values \n",
    "incurance_dataset.isnull().sum()  # no missing "
   ]
  },
  {
   "cell_type": "code",
   "execution_count": 185,
   "id": "8aed88dd",
   "metadata": {},
   "outputs": [],
   "source": [
    "# check for duplicates \n",
    "incurance_dataset.duplicated().value_counts()\n",
    "# get rid of the duplicates \n",
    "incurance_dataset.drop_duplicates(inplace= True)"
   ]
  },
  {
   "cell_type": "code",
   "execution_count": 186,
   "id": "241beaeb",
   "metadata": {},
   "outputs": [
    {
     "data": {
      "text/plain": [
       "False    1337\n",
       "Name: count, dtype: int64"
      ]
     },
     "execution_count": 186,
     "metadata": {},
     "output_type": "execute_result"
    }
   ],
   "source": [
    "incurance_dataset.duplicated().value_counts()"
   ]
  },
  {
   "cell_type": "markdown",
   "id": "b2d21be0",
   "metadata": {},
   "source": [
    "## perform some data analysis"
   ]
  },
  {
   "cell_type": "code",
   "execution_count": 187,
   "id": "9cd2c1ff",
   "metadata": {},
   "outputs": [
    {
     "data": {
      "text/html": [
       "<div>\n",
       "<style scoped>\n",
       "    .dataframe tbody tr th:only-of-type {\n",
       "        vertical-align: middle;\n",
       "    }\n",
       "\n",
       "    .dataframe tbody tr th {\n",
       "        vertical-align: top;\n",
       "    }\n",
       "\n",
       "    .dataframe thead th {\n",
       "        text-align: right;\n",
       "    }\n",
       "</style>\n",
       "<table border=\"1\" class=\"dataframe\">\n",
       "  <thead>\n",
       "    <tr style=\"text-align: right;\">\n",
       "      <th></th>\n",
       "      <th>age</th>\n",
       "      <th>bmi</th>\n",
       "      <th>children</th>\n",
       "      <th>charges</th>\n",
       "    </tr>\n",
       "  </thead>\n",
       "  <tbody>\n",
       "    <tr>\n",
       "      <th>count</th>\n",
       "      <td>1337.000000</td>\n",
       "      <td>1337.000000</td>\n",
       "      <td>1337.000000</td>\n",
       "      <td>1337.000000</td>\n",
       "    </tr>\n",
       "    <tr>\n",
       "      <th>mean</th>\n",
       "      <td>39.222139</td>\n",
       "      <td>30.663452</td>\n",
       "      <td>1.095737</td>\n",
       "      <td>13279.121487</td>\n",
       "    </tr>\n",
       "    <tr>\n",
       "      <th>std</th>\n",
       "      <td>14.044333</td>\n",
       "      <td>6.100468</td>\n",
       "      <td>1.205571</td>\n",
       "      <td>12110.359656</td>\n",
       "    </tr>\n",
       "    <tr>\n",
       "      <th>min</th>\n",
       "      <td>18.000000</td>\n",
       "      <td>15.960000</td>\n",
       "      <td>0.000000</td>\n",
       "      <td>1121.873900</td>\n",
       "    </tr>\n",
       "    <tr>\n",
       "      <th>25%</th>\n",
       "      <td>27.000000</td>\n",
       "      <td>26.290000</td>\n",
       "      <td>0.000000</td>\n",
       "      <td>4746.344000</td>\n",
       "    </tr>\n",
       "    <tr>\n",
       "      <th>50%</th>\n",
       "      <td>39.000000</td>\n",
       "      <td>30.400000</td>\n",
       "      <td>1.000000</td>\n",
       "      <td>9386.161300</td>\n",
       "    </tr>\n",
       "    <tr>\n",
       "      <th>75%</th>\n",
       "      <td>51.000000</td>\n",
       "      <td>34.700000</td>\n",
       "      <td>2.000000</td>\n",
       "      <td>16657.717450</td>\n",
       "    </tr>\n",
       "    <tr>\n",
       "      <th>max</th>\n",
       "      <td>64.000000</td>\n",
       "      <td>53.130000</td>\n",
       "      <td>5.000000</td>\n",
       "      <td>63770.428010</td>\n",
       "    </tr>\n",
       "  </tbody>\n",
       "</table>\n",
       "</div>"
      ],
      "text/plain": [
       "               age          bmi     children       charges\n",
       "count  1337.000000  1337.000000  1337.000000   1337.000000\n",
       "mean     39.222139    30.663452     1.095737  13279.121487\n",
       "std      14.044333     6.100468     1.205571  12110.359656\n",
       "min      18.000000    15.960000     0.000000   1121.873900\n",
       "25%      27.000000    26.290000     0.000000   4746.344000\n",
       "50%      39.000000    30.400000     1.000000   9386.161300\n",
       "75%      51.000000    34.700000     2.000000  16657.717450\n",
       "max      64.000000    53.130000     5.000000  63770.428010"
      ]
     },
     "execution_count": 187,
     "metadata": {},
     "output_type": "execute_result"
    }
   ],
   "source": [
    "# get some numercal info about the data \n",
    "incurance_dataset.describe()"
   ]
  },
  {
   "cell_type": "code",
   "execution_count": 188,
   "id": "ca9d0a35",
   "metadata": {},
   "outputs": [
    {
     "data": {
      "image/png": "[encoded data removed]",
      "text/plain": [
       "<Figure size 600x400 with 1 Axes>"
      ]
     },
     "metadata": {},
     "output_type": "display_data"
    },
    {
     "data": {
      "image/png": "[encoded data removed]",
      "text/plain": [
       "<Figure size 600x400 with 1 Axes>"
      ]
     },
     "metadata": {},
     "output_type": "display_data"
    },
    {
     "data": {
      "image/png": "[encoded data removed]",
      "text/plain": [
       "<Figure size 600x400 with 1 Axes>"
      ]
     },
     "metadata": {},
     "output_type": "display_data"
    },
    {
     "data": {
      "image/png": "[encoded data removed]",
      "text/plain": [
       "<Figure size 600x400 with 1 Axes>"
      ]
     },
     "metadata": {},
     "output_type": "display_data"
    }
   ],
   "source": [
    "# make some distribution plots for the numerical columns \n",
    "for col in incurance_dataset.select_dtypes(include=np.number).columns:\n",
    "    plt.figure(figsize=(6,4))\n",
    "    sns.histplot(incurance_dataset[col], kde=True)\n",
    "    plt.title(f'Distribution of {col}')\n",
    "    plt.show()"
   ]
  },
  {
   "cell_type": "code",
   "execution_count": 189,
   "id": "bd992c01",
   "metadata": {},
   "outputs": [
    {
     "data": {
      "image/png": "[encoded data removed]",
      "text/plain": [
       "<Figure size 640x480 with 1 Axes>"
      ]
     },
     "metadata": {},
     "output_type": "display_data"
    }
   ],
   "source": [
    "# count plot for the children column \n",
    "sns.countplot(x='children',data=incurance_dataset)\n",
    "plt.show() "
   ]
  },
  {
   "cell_type": "code",
   "execution_count": 190,
   "id": "297f73e1",
   "metadata": {},
   "outputs": [
    {
     "data": {
      "image/png": "[encoded data removed]",
      "text/plain": [
       "<Figure size 600x400 with 1 Axes>"
      ]
     },
     "metadata": {},
     "output_type": "display_data"
    },
    {
     "data": {
      "image/png": "[encoded data removed]",
      "text/plain": [
       "<Figure size 600x400 with 1 Axes>"
      ]
     },
     "metadata": {},
     "output_type": "display_data"
    },
    {
     "data": {
      "image/png": "[encoded data removed]",
      "text/plain": [
       "<Figure size 600x400 with 1 Axes>"
      ]
     },
     "metadata": {},
     "output_type": "display_data"
    }
   ],
   "source": [
    "# make some distribution plots for the categorical columns \n",
    "for col in incurance_dataset.select_dtypes(include='object').columns:\n",
    "    plt.figure(figsize=(6,4))\n",
    "    sns.countplot(x=incurance_dataset[col] , data  = incurance_dataset) \n",
    "    plt.title(f'Distribution of {col}')\n",
    "    plt.show()"
   ]
  },
  {
   "cell_type": "code",
   "execution_count": 191,
   "id": "cc0b26f4",
   "metadata": {},
   "outputs": [
    {
     "name": "stdout",
     "output_type": "stream",
     "text": [
      "Value count for sex : \n",
      "sex\n",
      "male      675\n",
      "female    662\n",
      "Name: count, dtype: int64\n",
      "\n",
      "\n",
      "Value count for smoker : \n",
      "smoker\n",
      "no     1063\n",
      "yes     274\n",
      "Name: count, dtype: int64\n",
      "\n",
      "\n",
      "Value count for region : \n",
      "region\n",
      "southeast    364\n",
      "southwest    325\n",
      "northwest    324\n",
      "northeast    324\n",
      "Name: count, dtype: int64\n",
      "\n",
      "\n"
     ]
    }
   ],
   "source": [
    "# get the value counts for the categorical columns\n",
    "for col in incurance_dataset.select_dtypes(include='object').columns: \n",
    "    print(f'Value count for {col} : ')\n",
    "    print(incurance_dataset[col].value_counts())\n",
    "    print('\\n')"
   ]
  },
  {
   "cell_type": "markdown",
   "id": "a773f5c6",
   "metadata": {},
   "source": [
    "### Data preprocessing "
   ]
  },
  {
   "cell_type": "markdown",
   "id": "d568181f",
   "metadata": {},
   "source": [
    "encoding the categorical values "
   ]
  },
  {
   "cell_type": "code",
   "execution_count": 192,
   "id": "b526f03c",
   "metadata": {},
   "outputs": [],
   "source": [
    "from sklearn.preprocessing import LabelEncoder\n",
    "\n",
    "sex = LabelEncoder()\n",
    "smoker = LabelEncoder()\n",
    "region = LabelEncoder()\n",
    "\n",
    "incurance_dataset['sex'] = sex.fit_transform(incurance_dataset['sex'])\n",
    "incurance_dataset['smoker'] = smoker.fit_transform(incurance_dataset['smoker'])\n",
    "incurance_dataset['region'] = region.fit_transform(incurance_dataset['region'])\n",
    "\n",
    "# # encoding sex column\n",
    "# incurance_dataset.replace({'sex':{'male':0,'female':1}}, inplace=True)\n",
    "\n",
    "# 3 # encoding 'smoker' column\n",
    "# incurance_dataset.replace({'smoker':{'yes':0,'no':1}}, inplace=True)\n",
    "\n",
    "# # encoding 'region' column\n",
    "# incurance_dataset.replace({'region':{'southeast':0,'southwest':1,'northeast':2,'northwest':3}}, inplace=True)\n",
    "\n"
   ]
  },
  {
   "cell_type": "code",
   "execution_count": 193,
   "id": "e00f0119",
   "metadata": {},
   "outputs": [
    {
     "data": {
      "text/html": [
       "<div>\n",
       "<style scoped>\n",
       "    .dataframe tbody tr th:only-of-type {\n",
       "        vertical-align: middle;\n",
       "    }\n",
       "\n",
       "    .dataframe tbody tr th {\n",
       "        vertical-align: top;\n",
       "    }\n",
       "\n",
       "    .dataframe thead th {\n",
       "        text-align: right;\n",
       "    }\n",
       "</style>\n",
       "<table border=\"1\" class=\"dataframe\">\n",
       "  <thead>\n",
       "    <tr style=\"text-align: right;\">\n",
       "      <th></th>\n",
       "      <th>age</th>\n",
       "      <th>sex</th>\n",
       "      <th>bmi</th>\n",
       "      <th>children</th>\n",
       "      <th>smoker</th>\n",
       "      <th>region</th>\n",
       "      <th>charges</th>\n",
       "    </tr>\n",
       "  </thead>\n",
       "  <tbody>\n",
       "    <tr>\n",
       "      <th>0</th>\n",
       "      <td>19</td>\n",
       "      <td>0</td>\n",
       "      <td>27.900</td>\n",
       "      <td>0</td>\n",
       "      <td>1</td>\n",
       "      <td>3</td>\n",
       "      <td>16884.92400</td>\n",
       "    </tr>\n",
       "    <tr>\n",
       "      <th>1</th>\n",
       "      <td>18</td>\n",
       "      <td>1</td>\n",
       "      <td>33.770</td>\n",
       "      <td>1</td>\n",
       "      <td>0</td>\n",
       "      <td>2</td>\n",
       "      <td>1725.55230</td>\n",
       "    </tr>\n",
       "    <tr>\n",
       "      <th>2</th>\n",
       "      <td>28</td>\n",
       "      <td>1</td>\n",
       "      <td>33.000</td>\n",
       "      <td>3</td>\n",
       "      <td>0</td>\n",
       "      <td>2</td>\n",
       "      <td>4449.46200</td>\n",
       "    </tr>\n",
       "    <tr>\n",
       "      <th>3</th>\n",
       "      <td>33</td>\n",
       "      <td>1</td>\n",
       "      <td>22.705</td>\n",
       "      <td>0</td>\n",
       "      <td>0</td>\n",
       "      <td>1</td>\n",
       "      <td>21984.47061</td>\n",
       "    </tr>\n",
       "    <tr>\n",
       "      <th>4</th>\n",
       "      <td>32</td>\n",
       "      <td>1</td>\n",
       "      <td>28.880</td>\n",
       "      <td>0</td>\n",
       "      <td>0</td>\n",
       "      <td>1</td>\n",
       "      <td>3866.85520</td>\n",
       "    </tr>\n",
       "  </tbody>\n",
       "</table>\n",
       "</div>"
      ],
      "text/plain": [
       "   age  sex     bmi  children  smoker  region      charges\n",
       "0   19    0  27.900         0       1       3  16884.92400\n",
       "1   18    1  33.770         1       0       2   1725.55230\n",
       "2   28    1  33.000         3       0       2   4449.46200\n",
       "3   33    1  22.705         0       0       1  21984.47061\n",
       "4   32    1  28.880         0       0       1   3866.85520"
      ]
     },
     "execution_count": 193,
     "metadata": {},
     "output_type": "execute_result"
    }
   ],
   "source": [
    "incurance_dataset.head()  "
   ]
  },
  {
   "cell_type": "markdown",
   "id": "397a84dc",
   "metadata": {},
   "source": [
    "detect outlier "
   ]
  },
  {
   "cell_type": "code",
   "execution_count": 194,
   "id": "c6371b92",
   "metadata": {},
   "outputs": [
    {
     "data": {
      "image/png": "[encoded data removed]",
      "text/plain": [
       "<Figure size 640x480 with 1 Axes>"
      ]
     },
     "metadata": {},
     "output_type": "display_data"
    },
    {
     "data": {
      "image/png": "[encoded data removed]",
      "text/plain": [
       "<Figure size 640x480 with 1 Axes>"
      ]
     },
     "metadata": {},
     "output_type": "display_data"
    },
    {
     "data": {
      "image/png": "[encoded data removed]",
      "text/plain": [
       "<Figure size 640x480 with 1 Axes>"
      ]
     },
     "metadata": {},
     "output_type": "display_data"
    },
    {
     "data": {
      "image/png": "[encoded data removed]",
      "text/plain": [
       "<Figure size 640x480 with 1 Axes>"
      ]
     },
     "metadata": {},
     "output_type": "display_data"
    },
    {
     "data": {
      "image/png": "[encoded data removed]",
      "text/plain": [
       "<Figure size 640x480 with 1 Axes>"
      ]
     },
     "metadata": {},
     "output_type": "display_data"
    },
    {
     "data": {
      "image/png": "[encoded data removed]",
      "text/plain": [
       "<Figure size 640x480 with 1 Axes>"
      ]
     },
     "metadata": {},
     "output_type": "display_data"
    },
    {
     "data": {
      "image/png": "[encoded data removed]",
      "text/plain": [
       "<Figure size 640x480 with 1 Axes>"
      ]
     },
     "metadata": {},
     "output_type": "display_data"
    }
   ],
   "source": [
    "for col in incurance_dataset.select_dtypes(include=np.number).columns:\n",
    "  sns.boxplot(x=incurance_dataset[col])\n",
    "  plt.title(f'Boxplot of {col}')\n",
    "  plt.show()"
   ]
  },
  {
   "cell_type": "markdown",
   "id": "8bb5b2f1",
   "metadata": {},
   "source": [
    "splitting the features and target \n"
   ]
  },
  {
   "cell_type": "code",
   "execution_count": 195,
   "id": "a379999b",
   "metadata": {},
   "outputs": [
    {
     "data": {
      "text/html": [
       "<div>\n",
       "<style scoped>\n",
       "    .dataframe tbody tr th:only-of-type {\n",
       "        vertical-align: middle;\n",
       "    }\n",
       "\n",
       "    .dataframe tbody tr th {\n",
       "        vertical-align: top;\n",
       "    }\n",
       "\n",
       "    .dataframe thead th {\n",
       "        text-align: right;\n",
       "    }\n",
       "</style>\n",
       "<table border=\"1\" class=\"dataframe\">\n",
       "  <thead>\n",
       "    <tr style=\"text-align: right;\">\n",
       "      <th></th>\n",
       "      <th>age</th>\n",
       "      <th>sex</th>\n",
       "      <th>bmi</th>\n",
       "      <th>children</th>\n",
       "      <th>smoker</th>\n",
       "      <th>region</th>\n",
       "    </tr>\n",
       "  </thead>\n",
       "  <tbody>\n",
       "    <tr>\n",
       "      <th>0</th>\n",
       "      <td>19</td>\n",
       "      <td>0</td>\n",
       "      <td>27.900</td>\n",
       "      <td>0</td>\n",
       "      <td>1</td>\n",
       "      <td>3</td>\n",
       "    </tr>\n",
       "    <tr>\n",
       "      <th>1</th>\n",
       "      <td>18</td>\n",
       "      <td>1</td>\n",
       "      <td>33.770</td>\n",
       "      <td>1</td>\n",
       "      <td>0</td>\n",
       "      <td>2</td>\n",
       "    </tr>\n",
       "    <tr>\n",
       "      <th>2</th>\n",
       "      <td>28</td>\n",
       "      <td>1</td>\n",
       "      <td>33.000</td>\n",
       "      <td>3</td>\n",
       "      <td>0</td>\n",
       "      <td>2</td>\n",
       "    </tr>\n",
       "    <tr>\n",
       "      <th>3</th>\n",
       "      <td>33</td>\n",
       "      <td>1</td>\n",
       "      <td>22.705</td>\n",
       "      <td>0</td>\n",
       "      <td>0</td>\n",
       "      <td>1</td>\n",
       "    </tr>\n",
       "    <tr>\n",
       "      <th>4</th>\n",
       "      <td>32</td>\n",
       "      <td>1</td>\n",
       "      <td>28.880</td>\n",
       "      <td>0</td>\n",
       "      <td>0</td>\n",
       "      <td>1</td>\n",
       "    </tr>\n",
       "  </tbody>\n",
       "</table>\n",
       "</div>"
      ],
      "text/plain": [
       "   age  sex     bmi  children  smoker  region\n",
       "0   19    0  27.900         0       1       3\n",
       "1   18    1  33.770         1       0       2\n",
       "2   28    1  33.000         3       0       2\n",
       "3   33    1  22.705         0       0       1\n",
       "4   32    1  28.880         0       0       1"
      ]
     },
     "metadata": {},
     "output_type": "display_data"
    },
    {
     "data": {
      "text/plain": [
       "0    16884.92400\n",
       "1     1725.55230\n",
       "2     4449.46200\n",
       "3    21984.47061\n",
       "4     3866.85520\n",
       "Name: charges, dtype: float64"
      ]
     },
     "metadata": {},
     "output_type": "display_data"
    }
   ],
   "source": [
    "x= incurance_dataset.drop(columns='charges', axis=1)\n",
    "y = incurance_dataset.charges\n",
    "display(x.head())\n",
    "display(y.head())"
   ]
  },
  {
   "cell_type": "markdown",
   "id": "209f3c12",
   "metadata": {},
   "source": [
    "Train & Test Splitting"
   ]
  },
  {
   "cell_type": "code",
   "execution_count": 196,
   "id": "cff95e03",
   "metadata": {},
   "outputs": [],
   "source": [
    "x_train,x_test,y_train,y_test = train_test_split(x,y , test_size=0.2 , random_state=10)\n"
   ]
  },
  {
   "cell_type": "code",
   "execution_count": 197,
   "id": "1edce31f",
   "metadata": {},
   "outputs": [
    {
     "data": {
      "text/plain": [
       "(1069, 6)"
      ]
     },
     "metadata": {},
     "output_type": "display_data"
    },
    {
     "data": {
      "text/plain": [
       "(268, 6)"
      ]
     },
     "metadata": {},
     "output_type": "display_data"
    },
    {
     "data": {
      "text/plain": [
       "(1069,)"
      ]
     },
     "metadata": {},
     "output_type": "display_data"
    },
    {
     "data": {
      "text/plain": [
       "(268,)"
      ]
     },
     "metadata": {},
     "output_type": "display_data"
    }
   ],
   "source": [
    "display(x_train.shape)\n",
    "display(x_test.shape)\n",
    "display(y_train.shape)\n",
    "display(y_test.shape)"
   ]
  },
  {
   "cell_type": "markdown",
   "id": "fe440652",
   "metadata": {},
   "source": [
    "scalling the numerical data"
   ]
  },
  {
   "cell_type": "code",
   "execution_count": 198,
   "id": "2b28a1e5",
   "metadata": {},
   "outputs": [
    {
     "data": {
      "text/html": [
       "<div>\n",
       "<style scoped>\n",
       "    .dataframe tbody tr th:only-of-type {\n",
       "        vertical-align: middle;\n",
       "    }\n",
       "\n",
       "    .dataframe tbody tr th {\n",
       "        vertical-align: top;\n",
       "    }\n",
       "\n",
       "    .dataframe thead th {\n",
       "        text-align: right;\n",
       "    }\n",
       "</style>\n",
       "<table border=\"1\" class=\"dataframe\">\n",
       "  <thead>\n",
       "    <tr style=\"text-align: right;\">\n",
       "      <th></th>\n",
       "      <th>age</th>\n",
       "      <th>sex</th>\n",
       "      <th>bmi</th>\n",
       "      <th>children</th>\n",
       "      <th>smoker</th>\n",
       "      <th>region</th>\n",
       "    </tr>\n",
       "  </thead>\n",
       "  <tbody>\n",
       "    <tr>\n",
       "      <th>982</th>\n",
       "      <td>-0.32</td>\n",
       "      <td>0.0</td>\n",
       "      <td>-0.535236</td>\n",
       "      <td>1.0</td>\n",
       "      <td>1.0</td>\n",
       "      <td>1.0</td>\n",
       "    </tr>\n",
       "    <tr>\n",
       "      <th>907</th>\n",
       "      <td>0.20</td>\n",
       "      <td>-1.0</td>\n",
       "      <td>0.214910</td>\n",
       "      <td>0.0</td>\n",
       "      <td>0.0</td>\n",
       "      <td>0.0</td>\n",
       "    </tr>\n",
       "    <tr>\n",
       "      <th>22</th>\n",
       "      <td>-0.84</td>\n",
       "      <td>0.0</td>\n",
       "      <td>0.419918</td>\n",
       "      <td>-0.5</td>\n",
       "      <td>0.0</td>\n",
       "      <td>0.0</td>\n",
       "    </tr>\n",
       "    <tr>\n",
       "      <th>1261</th>\n",
       "      <td>-0.44</td>\n",
       "      <td>0.0</td>\n",
       "      <td>0.769365</td>\n",
       "      <td>0.0</td>\n",
       "      <td>0.0</td>\n",
       "      <td>1.0</td>\n",
       "    </tr>\n",
       "    <tr>\n",
       "      <th>1065</th>\n",
       "      <td>0.12</td>\n",
       "      <td>-1.0</td>\n",
       "      <td>-0.605125</td>\n",
       "      <td>0.0</td>\n",
       "      <td>0.0</td>\n",
       "      <td>1.0</td>\n",
       "    </tr>\n",
       "  </tbody>\n",
       "</table>\n",
       "</div>"
      ],
      "text/plain": [
       "       age  sex       bmi  children  smoker  region\n",
       "982  -0.32  0.0 -0.535236       1.0     1.0     1.0\n",
       "907   0.20 -1.0  0.214910       0.0     0.0     0.0\n",
       "22   -0.84  0.0  0.419918      -0.5     0.0     0.0\n",
       "1261 -0.44  0.0  0.769365       0.0     0.0     1.0\n",
       "1065  0.12 -1.0 -0.605125       0.0     0.0     1.0"
      ]
     },
     "execution_count": 198,
     "metadata": {},
     "output_type": "execute_result"
    }
   ],
   "source": [
    "from sklearn.preprocessing import RobustScaler\n",
    "\n",
    "scaler = RobustScaler()\n",
    "\n",
    "numerical_cols = x.select_dtypes(include=np.number).columns\n",
    "\n",
    "x_train_scaled = x_train.copy()\n",
    "x_test_scaled = x_test.copy()\n",
    "\n",
    "x_train_scaled[numerical_cols] = scaler.fit_transform(x_train[numerical_cols])\n",
    "x_test_scaled[numerical_cols] = scaler.transform(x_test[numerical_cols])\n",
    "\n",
    "x_train_scaled.head()\n"
   ]
  },
  {
   "cell_type": "markdown",
   "id": "a845409d",
   "metadata": {},
   "source": [
    "### train the model "
   ]
  },
  {
   "cell_type": "code",
   "execution_count": 199,
   "id": "1877c961",
   "metadata": {},
   "outputs": [],
   "source": [
    "regressor  = LinearRegression() \n"
   ]
  },
  {
   "cell_type": "code",
   "execution_count": 200,
   "id": "db9a3626",
   "metadata": {},
   "outputs": [
    {
     "data": {
      "text/html": [
       "<style>#sk-container-id-8 {color: black;background-color: white;}#sk-container-id-8 pre{padding: 0;}#sk-container-id-8 div.sk-toggleable {background-color: white;}#sk-container-id-8 label.sk-toggleable__label {cursor: pointer;display: block;width: 100%;margin-bottom: 0;padding: 0.3em;box-sizing: border-box;text-align: center;}#sk-container-id-8 label.sk-toggleable__label-arrow:before {content: \"▸\";float: left;margin-right: 0.25em;color: #696969;}#sk-container-id-8 label.sk-toggleable__label-arrow:hover:before {color: black;}#sk-container-id-8 div.sk-estimator:hover label.sk-toggleable__label-arrow:before {color: black;}#sk-container-id-8 div.sk-toggleable__content {max-height: 0;max-width: 0;overflow: hidden;text-align: left;background-color: #f0f8ff;}#sk-container-id-8 div.sk-toggleable__content pre {margin: 0.2em;color: black;border-radius: 0.25em;background-color: #f0f8ff;}#sk-container-id-8 input.sk-toggleable__control:checked~div.sk-toggleable__content {max-height: 200px;max-width: 100%;overflow: auto;}#sk-container-id-8 input.sk-toggleable__control:checked~label.sk-toggleable__label-arrow:before {content: \"▾\";}#sk-container-id-8 div.sk-estimator input.sk-toggleable__control:checked~label.sk-toggleable__label {background-color: #d4ebff;}#sk-container-id-8 div.sk-label input.sk-toggleable__control:checked~label.sk-toggleable__label {background-color: #d4ebff;}#sk-container-id-8 input.sk-hidden--visually {border: 0;clip: rect(1px 1px 1px 1px);clip: rect(1px, 1px, 1px, 1px);height: 1px;margin: -1px;overflow: hidden;padding: 0;position: absolute;width: 1px;}#sk-container-id-8 div.sk-estimator {font-family: monospace;background-color: #f0f8ff;border: 1px dotted black;border-radius: 0.25em;box-sizing: border-box;margin-bottom: 0.5em;}#sk-container-id-8 div.sk-estimator:hover {background-color: #d4ebff;}#sk-container-id-8 div.sk-parallel-item::after {content: \"\";width: 100%;border-bottom: 1px solid gray;flex-grow: 1;}#sk-container-id-8 div.sk-label:hover label.sk-toggleable__label {background-color: #d4ebff;}#sk-container-id-8 div.sk-serial::before {content: \"\";position: absolute;border-left: 1px solid gray;box-sizing: border-box;top: 0;bottom: 0;left: 50%;z-index: 0;}#sk-container-id-8 div.sk-serial {display: flex;flex-direction: column;align-items: center;background-color: white;padding-right: 0.2em;padding-left: 0.2em;position: relative;}#sk-container-id-8 div.sk-item {position: relative;z-index: 1;}#sk-container-id-8 div.sk-parallel {display: flex;align-items: stretch;justify-content: center;background-color: white;position: relative;}#sk-container-id-8 div.sk-item::before, #sk-container-id-8 div.sk-parallel-item::before {content: \"\";position: absolute;border-left: 1px solid gray;box-sizing: border-box;top: 0;bottom: 0;left: 50%;z-index: -1;}#sk-container-id-8 div.sk-parallel-item {display: flex;flex-direction: column;z-index: 1;position: relative;background-color: white;}#sk-container-id-8 div.sk-parallel-item:first-child::after {align-self: flex-end;width: 50%;}#sk-container-id-8 div.sk-parallel-item:last-child::after {align-self: flex-start;width: 50%;}#sk-container-id-8 div.sk-parallel-item:only-child::after {width: 0;}#sk-container-id-8 div.sk-dashed-wrapped {border: 1px dashed gray;margin: 0 0.4em 0.5em 0.4em;box-sizing: border-box;padding-bottom: 0.4em;background-color: white;}#sk-container-id-8 div.sk-label label {font-family: monospace;font-weight: bold;display: inline-block;line-height: 1.2em;}#sk-container-id-8 div.sk-label-container {text-align: center;}#sk-container-id-8 div.sk-container {/* jupyter's `normalize.less` sets `[hidden] { display: none; }` but bootstrap.min.css set `[hidden] { display: none !important; }` so we also need the `!important` here to be able to override the default hidden behavior on the sphinx rendered scikit-learn.org. See: https://github.com/scikit-learn/scikit-learn/issues/21755 */display: inline-block !important;position: relative;}#sk-container-id-8 div.sk-text-repr-fallback {display: none;}</style><div id=\"sk-container-id-8\" class=\"sk-top-container\"><div class=\"sk-text-repr-fallback\"><pre>LinearRegression()</pre><b>In a Jupyter environment, please rerun this cell to show the HTML representation or trust the notebook. <br />On GitHub, the HTML representation is unable to render, please try loading this page with nbviewer.org.</b></div><div class=\"sk-container\" hidden><div class=\"sk-item\"><div class=\"sk-estimator sk-toggleable\"><input class=\"sk-toggleable__control sk-hidden--visually\" id=\"sk-estimator-id-8\" type=\"checkbox\" checked><label for=\"sk-estimator-id-8\" class=\"sk-toggleable__label sk-toggleable__label-arrow\">LinearRegression</label><div class=\"sk-toggleable__content\"><pre>LinearRegression()</pre></div></div></div></div></div>"
      ],
      "text/plain": [
       "LinearRegression()"
      ]
     },
     "execution_count": 200,
     "metadata": {},
     "output_type": "execute_result"
    }
   ],
   "source": [
    "regressor.fit(x_train,y_train)"
   ]
  },
  {
   "cell_type": "markdown",
   "id": "57918077",
   "metadata": {},
   "source": [
    "test the model "
   ]
  },
  {
   "cell_type": "code",
   "execution_count": 201,
   "id": "42e7f2be",
   "metadata": {},
   "outputs": [],
   "source": [
    "y_predicted = regressor.predict(x_test)"
   ]
  },
  {
   "cell_type": "code",
   "execution_count": 202,
   "id": "66413537",
   "metadata": {},
   "outputs": [
    {
     "data": {
      "text/plain": [
       "array([ 4124.8158189 ,  4330.3240549 , 11752.05004143, 12003.73128724,\n",
       "       33453.62994737,  6096.12087338, 11906.85964219,  3757.43109318,\n",
       "       37677.19153412, 15505.89017986,  9782.1094319 ,  3117.20708728,\n",
       "        4354.17969275, 30565.437108  , 34228.46475491, 30241.72518994,\n",
       "        5562.11959692,  8907.09448607,  6252.1495059 ,  5609.51929559,\n",
       "       28052.31420172,  9628.21959909, 27526.13236034,  8203.71968417,\n",
       "        6784.51089309,  4578.50977953, 32577.95464079,  9020.35354246,\n",
       "        6814.25087191,  7133.98523832,  7891.28384523, 10649.12428539,\n",
       "       11895.63959826,  9405.55477689,  8188.785719  , 10781.90009194,\n",
       "       14563.23745912,  8398.14633779, 13795.72753533, 11518.29275496,\n",
       "        1134.93130348, 30780.93656227,  5848.90215639,  2363.79732949,\n",
       "       10657.90504357, 14280.70115308, 13346.13001902, 36139.79573867,\n",
       "       35063.46386455,   895.83829659, 11588.83842061, 14082.01850106,\n",
       "        9405.01905973, 37361.88032157, 12466.23173579, 10375.11147779,\n",
       "        4256.68067044,  7692.918966  ,  4895.74307816, 12313.3277251 ,\n",
       "        8084.73585155, 34460.10200722, 10206.79221521, 12676.40189602,\n",
       "        9406.77256047, 15526.48663458,  4142.23314431,  3931.32554453,\n",
       "        -781.80917156, 14909.84839144, 27262.89867651, 14346.63436549,\n",
       "        1944.34902575,  1863.58685651, 34144.68825672, 11196.00126811,\n",
       "        7228.86140897,   114.61214229, 16132.44726537,  4850.20990009,\n",
       "       29495.16689607, 17145.19413439, 14727.09417542, 14872.44620466,\n",
       "       26426.20173623,  7052.3426761 , 11081.32942016, 37242.70761038,\n",
       "       12506.87114347,  5327.58970169,  5297.1429781 , 13338.53922682,\n",
       "       13360.70930683, 11855.5129539 ,  3941.07868941, 27049.98789631,\n",
       "        9628.69735742,  4194.0129629 ,  8294.08115615, 36305.66608585,\n",
       "        1895.80777409, 29732.9002554 ,  4668.38336568,  6722.2700886 ,\n",
       "       17861.5845829 ,  8880.98362623,  3047.97167524,  1851.47598661,\n",
       "       11021.48862431,  2220.40910572, 39165.12340132, 13332.79518721,\n",
       "       13342.02734746,  2570.67421618, 35969.2591188 ,  3446.70178931,\n",
       "        8480.03094005,  8286.70015338, 11177.41325756,  2406.93780496,\n",
       "        1469.4664198 , 36306.81381715,  6154.50863706, 11395.36061817,\n",
       "        5880.48958477,  2719.42826668,  9540.73967903, 29164.51772021,\n",
       "       11752.21206591,  8367.11875371, 10505.77155378, 12430.32473202,\n",
       "       15274.43026623,  8028.67459287, 31933.61746396, 34609.90552321,\n",
       "       12767.2626014 , 10384.25214217, 12730.39279573, 13658.33678769,\n",
       "       13960.39409856,  9820.03735177,  3538.37346598, 11167.61852604,\n",
       "        4719.17601612,  4660.00895007,  8209.24551389, 13289.26565594,\n",
       "       34906.00714373, 39023.15703862,  -399.26234243,  5665.44486861,\n",
       "       11546.22607158,  2717.26169829,  4960.01614631,  7588.96680422,\n",
       "       14143.38899113, 12307.88418898, 39701.67271125,  7498.77878132,\n",
       "       10006.73566621,  2498.30800399, 33833.03406458, 12705.9606359 ,\n",
       "       31291.27249187, 12115.05425792, 29558.85482164,  8052.3121536 ,\n",
       "        1061.28507675, 11525.82176511, 33000.38936137,  1896.64404367,\n",
       "       37067.32420325,  2686.7007641 ,  3028.05426299, 11385.07318599,\n",
       "       11366.88529077, 33220.75725964, 36184.43419051,  9470.2854918 ,\n",
       "       15901.98071566,  7349.77893394, 10265.30509882, 32809.95661412,\n",
       "        2542.70059257,  2426.75788342,  1617.0957103 , 28057.20127851,\n",
       "       24557.31440087,  5705.82212468,  4079.90997983,  9892.26028757,\n",
       "        8216.86952019,   333.35546549,  8496.82610637, 32972.66023753,\n",
       "       14917.74356993,  7050.57009365, 28108.07781664,  5745.69237495,\n",
       "       32131.52619267,  4846.92818391,  9592.8894228 ,  -367.58769031,\n",
       "        6661.71573907,  8981.58171337,  6180.61949691, 14777.53070798,\n",
       "        9795.78257953,  1062.04177968, 31340.81190482, 36222.76368704,\n",
       "        5136.37142484, 26253.42865991, 37594.812398  ,  1868.98479043,\n",
       "       10236.83606503,  6113.69675446, 13830.08868248,  9106.58548878,\n",
       "       11460.41435216,  6963.66669558,  9206.79496903, 25680.42643518,\n",
       "       15774.06896567, 30357.87352174,  3571.34188423,  5040.68683713,\n",
       "       11073.31492819, 11336.01764331,  7032.10471516,  4977.41483892,\n",
       "       12731.4518245 , 11065.66942938, 10704.98128491, 11517.06879306,\n",
       "        8345.44636193, 12099.44988832,  9594.75836488, -1644.72473847,\n",
       "       10432.69562179, 31028.70290819, 10997.36169896, 14624.3975781 ,\n",
       "        5208.01162887, 12060.39202175, 10758.43129821,  9481.13561055,\n",
       "        7464.42392778, 31836.33268489,  7924.7387369 , 11239.96066002,\n",
       "        6684.78443492,  7472.63488905, 12163.50403116, 11924.82941137,\n",
       "        5643.24164088,  2822.97643033,  9474.39490588,  8199.15034527,\n",
       "       15975.29719143, 12527.73498543,  1863.41724131,  1425.34641582,\n",
       "       40314.68461131, 11312.16200545,  6413.64552215,  9065.67733038])"
      ]
     },
     "execution_count": 202,
     "metadata": {},
     "output_type": "execute_result"
    }
   ],
   "source": [
    "y_predicted"
   ]
  },
  {
   "cell_type": "markdown",
   "id": "7ff34dec",
   "metadata": {},
   "source": [
    "calculate the test square error "
   ]
  },
  {
   "cell_type": "code",
   "execution_count": 203,
   "id": "298e57a0",
   "metadata": {},
   "outputs": [
    {
     "data": {
      "text/plain": [
       "35907174.73038728"
      ]
     },
     "execution_count": 203,
     "metadata": {},
     "output_type": "execute_result"
    }
   ],
   "source": [
    "mean_squared_error(y_test,y_predicted)"
   ]
  },
  {
   "cell_type": "code",
   "execution_count": 204,
   "id": "00b1ca2f",
   "metadata": {},
   "outputs": [
    {
     "data": {
      "text/plain": [
       "4045.2470168886575"
      ]
     },
     "execution_count": 204,
     "metadata": {},
     "output_type": "execute_result"
    }
   ],
   "source": [
    "mean_absolute_error(y_test,y_predicted)"
   ]
  },
  {
   "cell_type": "markdown",
   "id": "982b698d",
   "metadata": {},
   "source": [
    "get the accuracy of the model "
   ]
  },
  {
   "cell_type": "code",
   "execution_count": 205,
   "id": "380fdedf",
   "metadata": {},
   "outputs": [
    {
     "name": "stdout",
     "output_type": "stream",
     "text": [
      "Model Accuracy (R² score): 0.7347\n"
     ]
    }
   ],
   "source": [
    "from sklearn.metrics import r2_score\n",
    "accuracy = r2_score(y_test, y_predicted)\n",
    "print(f\"Model Accuracy (R² score): {accuracy:.4f}\")"
   ]
  },
  {
   "cell_type": "markdown",
   "id": "15ac9aa0",
   "metadata": {},
   "source": [
    "bullding a predicator system "
   ]
  },
  {
   "cell_type": "code",
   "execution_count": null,
   "id": "c0419bb5",
   "metadata": {},
   "outputs": [
    {
     "name": "stdout",
     "output_type": "stream",
     "text": [
      "The predicted insurance charge for the input data is: $15410.88\n"
     ]
    }
   ],
   "source": [
    "# using the linear regression \n",
    "import pandas as pd\n",
    "import numpy as np\n",
    "raw_input = {\n",
    "    'age': 60,\n",
    "    'sex': 'female',\n",
    "    'bmi': 36.005,\n",
    "    'children': 0,\n",
    "    'smoker': 'no',\n",
    "    'region': 'northeast'\n",
    "}\n",
    "    #60,female,36.005,0,no,northeast,13228.84695\n",
    "\n",
    "input_df = pd.DataFrame([raw_input])\n",
    "input_df['sex'] = sex.transform(input_df['sex'])\n",
    "input_df['smoker'] = smoker.transform(input_df['smoker'])\n",
    "input_df['region'] = region.transform(input_df['region'])\n",
    "predicted_charge = regressor.predict(input_df)\n",
    "print(f\"The predicted insurance charge for the input data is: ${predicted_charge[0]:.2f}\")\n"
   ]
  },
  {
   "cell_type": "markdown",
   "id": "f32141f9",
   "metadata": {},
   "source": [
    "usning the random forest regressor "
   ]
  },
  {
   "cell_type": "code",
   "execution_count": 207,
   "id": "e4b6041d",
   "metadata": {},
   "outputs": [
    {
     "name": "stdout",
     "output_type": "stream",
     "text": [
      "Random Forest Mean Squared Error: 27204131.20069832\n",
      "Random Forest Mean Absolute Error: 2872.5396235522394\n",
      " (R² score): 0.7990\n"
     ]
    }
   ],
   "source": [
    "from sklearn.ensemble import RandomForestRegressor\n",
    "rf_regressor = RandomForestRegressor(n_estimators=100, random_state=42)\n",
    "rf_regressor.fit(x_train, y_train)\n",
    "\n",
    "y_rf_predicted = rf_regressor.predict(x_test)\n",
    "\n",
    "print('Random Forest Mean Squared Error:', mean_squared_error(y_test, y_rf_predicted))\n",
    "print('Random Forest Mean Absolute Error:', mean_absolute_error(y_test, y_rf_predicted))\n",
    "rf_r2 = r2_score(y_test, y_rf_predicted)\n",
    "print(f\" (R² score): {rf_r2:.4f}\")"
   ]
  },
  {
   "cell_type": "code",
   "execution_count": 208,
   "id": "06597b2b",
   "metadata": {},
   "outputs": [
    {
     "name": "stdout",
     "output_type": "stream",
     "text": [
      "The predicted insurance charge for the input data is: $13129.58\n"
     ]
    }
   ],
   "source": [
    "import pandas as pd\n",
    "import numpy as np\n",
    "raw_input = {\n",
    "    'age': 60,\n",
    "    'sex': 'female',\n",
    "    'bmi': 36.005,\n",
    "    'children': 0,\n",
    "    'smoker': 'no',\n",
    "    'region': 'northeast'\n",
    "\n",
    "    #60,female,36.005,0,no,northeast,13228.84695\n",
    "}\n",
    "input_df = pd.DataFrame([raw_input])\n",
    "input_df['sex'] = sex.transform(input_df['sex'])\n",
    "input_df['smoker'] = smoker.transform(input_df['smoker'])\n",
    "input_df['region'] = region.transform(input_df['region'])\n",
    "predicted_charge = rf_regressor.predict(input_df)\n",
    "print(f\"The predicted insurance charge for the input data is: ${predicted_charge[0]:.2f}\")"
   ]
  },
  {
   "cell_type": "code",
   "execution_count": null,
   "id": "5acd73c1",
   "metadata": {},
   "outputs": [],
   "source": []
  }
 ],
 "metadata": {
  "kernelspec": {
   "display_name": "base",
   "language": "python",
   "name": "python3"
  },
  "language_info": {
   "codemirror_mode": {
    "name": "ipython",
    "version": 3
   },
   "file_extension": ".py",
   "mimetype": "text/x-python",
   "name": "python",
   "nbconvert_exporter": "python",
   "pygments_lexer": "ipython3",
   "version": "3.11.7"
  }
 },
 "nbformat": 4,
 "nbformat_minor": 5
}
